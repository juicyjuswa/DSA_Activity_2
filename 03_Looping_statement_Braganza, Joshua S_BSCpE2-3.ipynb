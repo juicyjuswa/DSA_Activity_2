{
 "cells": [
  {
   "cell_type": "markdown",
   "metadata": {},
   "source": []
  },
  {
   "cell_type": "markdown",
   "metadata": {},
   "source": [
    "## Lab 2 Exercise 1\n",
    "#### A teacher named Mrs. Rivera who loved making math fun for her students. One day, a student named Mia asked how to calculate powers, like (2^7). Mrs. Rivera explained, “Imagine you need to multiply 2 by itself seven times. We can solve this using a python code utilizing  special method called recursion to solve this,” \n",
    "### Can you help the class of Mrs. Rivera by providing the recursive method to calculate powers?"
   ]
  },
  {
   "cell_type": "code",
   "execution_count": 2,
   "metadata": {},
   "outputs": [
    {
     "name": "stdout",
     "output_type": "stream",
     "text": [
      "2^7 = 128\n",
      "24923742^0 = 1\n"
     ]
    }
   ],
   "source": [
    "def power(base, exponent):\n",
    "    if exponent == 0:\n",
    "        return 1\n",
    "    else:\n",
    "        return base * power(base, exponent - 1)\n",
    "\n",
    "result = power(2, 7)\n",
    "print(f\"2^7 = {result}\")\n",
    "\n",
    "result = power(24923742, 0)\n",
    "print(f\"24923742^0 = {result}\")\n"
   ]
  },
  {
   "cell_type": "markdown",
   "metadata": {},
   "source": [
    "## Lab 2 Exercise 2\n",
    "#### compute for the cube of integers. "
   ]
  },
  {
   "cell_type": "raw",
   "metadata": {},
   "source": [
    "Steps:\n",
    "1. Input the size of the array.\n",
    "2. input the elements of the array\n",
    "3. display the cube of each element\n",
    "\n",
    "Sample output\n",
    "\n",
    "Enter the size of the array : 3\n",
    "Enter the elements separated by space: 3 10 20\n",
    "27\n",
    "1000\n",
    "8000"
   ]
  },
  {
   "cell_type": "code",
   "execution_count": 3,
   "metadata": {},
   "outputs": [],
   "source": [
    "size = int(input(\"Enter the size of the array: \"))\n",
    "\n",
    "elements = list(map(int, input(f\"Enter {size} elements separated by space: \").split()))\n",
    "\n",
    "while len(elements) != size:\n",
    "    print(f\"Error: You need to enter exactly {size} elements.\")\n",
    "    elements = list(map(int, input(f\"Enter {size} elements separated by space: \").split()))\n",
    "\n",
    "for element in elements:\n",
    "    print(element ** 3)"
   ]
  },
  {
   "cell_type": "markdown",
   "metadata": {},
   "source": [
    "## Lab 2 Exercise 3\n",
    "#### Generate a hollow square based on the + integer input side length n."
   ]
  },
  {
   "cell_type": "raw",
   "metadata": {},
   "source": [
    "Sample output\n",
    "\n",
    "Enter the side length of the square: 6\n",
    "xxxxxx\n",
    "x    x\n",
    "x    x\n",
    "x    x\n",
    "x    x\n",
    "xxxxxx"
   ]
  },
  {
   "cell_type": "code",
   "execution_count": null,
   "metadata": {},
   "outputs": [],
   "source": [
    "s = int(input(\"Enter the sides length of the square: \"))\n",
    "\n",
    "for i in range(s):\n",
    "    if i == 0 or i == s - 1:  \n",
    "        print('x' * s)\n",
    "    else: \n",
    "        print('x' + ' ' * (s - 2) + 'x')"
   ]
  },
  {
   "cell_type": "markdown",
   "metadata": {},
   "source": [
    "### Lab 2 Exercise 4\n",
    "#### Generate an inverted right triangle of height n."
   ]
  },
  {
   "cell_type": "raw",
   "metadata": {},
   "source": [
    "Sample output\n",
    "\n",
    "Enter the height of the triangle: 6\n",
    "******\n",
    "*****\n",
    "****\n",
    "***\n",
    "**\n",
    "*"
   ]
  },
  {
   "cell_type": "code",
   "execution_count": null,
   "metadata": {},
   "outputs": [],
   "source": [
    "n = int(input(\"Input a number to create the base of an inverted triangle: \"))\n",
    "print(\"\\n\")\n",
    "for i in range(n,0, -1):\n",
    "    print(\"*\" * i)"
   ]
  }
 ],
 "metadata": {
  "kernelspec": {
   "display_name": "Python 3",
   "language": "python",
   "name": "python3"
  },
  "language_info": {
   "codemirror_mode": {
    "name": "ipython",
    "version": 3
   },
   "file_extension": ".py",
   "mimetype": "text/x-python",
   "name": "python",
   "nbconvert_exporter": "python",
   "pygments_lexer": "ipython3",
   "version": "3.12.0"
  }
 },
 "nbformat": 4,
 "nbformat_minor": 2
}
